{
 "cells": [
  {
   "cell_type": "markdown",
   "metadata": {},
   "source": [
    "\n",
    "The set includes the following Columns : Serial No., GRE Score, TOEFL Score, University Rating, SOP, LOR, CGPA, Research, Chance of Admit\n",
    "\n",
    "First read of the datasets' columns we can conclude some few basic facts and assumptions:\n",
    "\n",
    "1.Serial No. is just for providing a unique index and is thus ignored in any analysis, as it's improbable that it indicates an order of admission in terms of time or priority.\n",
    "\n",
    "2.Almost all data are assumed to be collerated to the chance of admission."
   ]
  },
  {
   "cell_type": "markdown",
   "metadata": {},
   "source": [
    "\n",
    "Importing Modules and Reading the .csv File"
   ]
  },
  {
   "cell_type": "code",
   "execution_count": 1,
   "metadata": {},
   "outputs": [],
   "source": [
    "#importing different libraries\n",
    "import pandas as pd\n",
    "import numpy as np\n",
    "import matplotlib.pyplot as plt\n",
    "import seaborn as sbn\n",
    "import warnings\n",
    "warnings.filterwarnings(\"ignore\")   # ignore if any warnings are there"
   ]
  },
  {
   "cell_type": "code",
   "execution_count": 2,
   "metadata": {},
   "outputs": [
    {
     "data": {
      "text/plain": [
       "(500, 9)"
      ]
     },
     "execution_count": 2,
     "metadata": {},
     "output_type": "execute_result"
    }
   ],
   "source": [
    "#Importing the dataset\n",
    "df=pd.read_csv(r\"C:\\Jupyter\\DSML\\DSML\\Linear Regression\\Admission_Predict_Ver1.1.csv\")\n",
    "df=pd.DataFrame(df)\n",
    "df.shape"
   ]
  },
  {
   "cell_type": "code",
   "execution_count": 3,
   "metadata": {},
   "outputs": [
    {
     "data": {
      "text/html": [
       "<div>\n",
       "<style scoped>\n",
       "    .dataframe tbody tr th:only-of-type {\n",
       "        vertical-align: middle;\n",
       "    }\n",
       "\n",
       "    .dataframe tbody tr th {\n",
       "        vertical-align: top;\n",
       "    }\n",
       "\n",
       "    .dataframe thead th {\n",
       "        text-align: right;\n",
       "    }\n",
       "</style>\n",
       "<table border=\"1\" class=\"dataframe\">\n",
       "  <thead>\n",
       "    <tr style=\"text-align: right;\">\n",
       "      <th></th>\n",
       "      <th>Serial No.</th>\n",
       "      <th>GRE Score</th>\n",
       "      <th>TOEFL Score</th>\n",
       "      <th>University Rating</th>\n",
       "      <th>SOP</th>\n",
       "      <th>LOR</th>\n",
       "      <th>CGPA</th>\n",
       "      <th>Research</th>\n",
       "      <th>Chance of Admit</th>\n",
       "    </tr>\n",
       "  </thead>\n",
       "  <tbody>\n",
       "    <tr>\n",
       "      <th>0</th>\n",
       "      <td>1</td>\n",
       "      <td>337</td>\n",
       "      <td>118</td>\n",
       "      <td>4</td>\n",
       "      <td>4.5</td>\n",
       "      <td>4.5</td>\n",
       "      <td>9.65</td>\n",
       "      <td>1</td>\n",
       "      <td>0.92</td>\n",
       "    </tr>\n",
       "    <tr>\n",
       "      <th>1</th>\n",
       "      <td>2</td>\n",
       "      <td>324</td>\n",
       "      <td>107</td>\n",
       "      <td>4</td>\n",
       "      <td>4.0</td>\n",
       "      <td>4.5</td>\n",
       "      <td>8.87</td>\n",
       "      <td>1</td>\n",
       "      <td>0.76</td>\n",
       "    </tr>\n",
       "    <tr>\n",
       "      <th>2</th>\n",
       "      <td>3</td>\n",
       "      <td>316</td>\n",
       "      <td>104</td>\n",
       "      <td>3</td>\n",
       "      <td>3.0</td>\n",
       "      <td>3.5</td>\n",
       "      <td>8.00</td>\n",
       "      <td>1</td>\n",
       "      <td>0.72</td>\n",
       "    </tr>\n",
       "    <tr>\n",
       "      <th>3</th>\n",
       "      <td>4</td>\n",
       "      <td>322</td>\n",
       "      <td>110</td>\n",
       "      <td>3</td>\n",
       "      <td>3.5</td>\n",
       "      <td>2.5</td>\n",
       "      <td>8.67</td>\n",
       "      <td>1</td>\n",
       "      <td>0.80</td>\n",
       "    </tr>\n",
       "    <tr>\n",
       "      <th>4</th>\n",
       "      <td>5</td>\n",
       "      <td>314</td>\n",
       "      <td>103</td>\n",
       "      <td>2</td>\n",
       "      <td>2.0</td>\n",
       "      <td>3.0</td>\n",
       "      <td>8.21</td>\n",
       "      <td>0</td>\n",
       "      <td>0.65</td>\n",
       "    </tr>\n",
       "  </tbody>\n",
       "</table>\n",
       "</div>"
      ],
      "text/plain": [
       "   Serial No.  GRE Score  TOEFL Score  University Rating  SOP  LOR   CGPA  \\\n",
       "0           1        337          118                  4  4.5   4.5  9.65   \n",
       "1           2        324          107                  4  4.0   4.5  8.87   \n",
       "2           3        316          104                  3  3.0   3.5  8.00   \n",
       "3           4        322          110                  3  3.5   2.5  8.67   \n",
       "4           5        314          103                  2  2.0   3.0  8.21   \n",
       "\n",
       "   Research  Chance of Admit   \n",
       "0         1              0.92  \n",
       "1         1              0.76  \n",
       "2         1              0.72  \n",
       "3         1              0.80  \n",
       "4         0              0.65  "
      ]
     },
     "execution_count": 3,
     "metadata": {},
     "output_type": "execute_result"
    }
   ],
   "source": [
    "df.head()"
   ]
  },
  {
   "cell_type": "code",
   "execution_count": 4,
   "metadata": {},
   "outputs": [
    {
     "data": {
      "text/plain": [
       "Serial No.             int64\n",
       "GRE Score              int64\n",
       "TOEFL Score            int64\n",
       "University Rating      int64\n",
       "SOP                  float64\n",
       "LOR                  float64\n",
       "CGPA                 float64\n",
       "Research               int64\n",
       "Chance of Admit      float64\n",
       "dtype: object"
      ]
     },
     "execution_count": 4,
     "metadata": {},
     "output_type": "execute_result"
    }
   ],
   "source": [
    "df.dtypes"
   ]
  },
  {
   "cell_type": "code",
   "execution_count": 5,
   "metadata": {},
   "outputs": [
    {
     "data": {
      "text/html": [
       "<div>\n",
       "<style scoped>\n",
       "    .dataframe tbody tr th:only-of-type {\n",
       "        vertical-align: middle;\n",
       "    }\n",
       "\n",
       "    .dataframe tbody tr th {\n",
       "        vertical-align: top;\n",
       "    }\n",
       "\n",
       "    .dataframe thead th {\n",
       "        text-align: right;\n",
       "    }\n",
       "</style>\n",
       "<table border=\"1\" class=\"dataframe\">\n",
       "  <thead>\n",
       "    <tr style=\"text-align: right;\">\n",
       "      <th></th>\n",
       "      <th>Serial No.</th>\n",
       "      <th>GRE Score</th>\n",
       "      <th>TOEFL Score</th>\n",
       "      <th>University Rating</th>\n",
       "      <th>SOP</th>\n",
       "      <th>LOR</th>\n",
       "      <th>CGPA</th>\n",
       "      <th>Research</th>\n",
       "      <th>Chance of Admit</th>\n",
       "    </tr>\n",
       "  </thead>\n",
       "  <tbody>\n",
       "    <tr>\n",
       "      <th>count</th>\n",
       "      <td>500.000000</td>\n",
       "      <td>500.000000</td>\n",
       "      <td>500.000000</td>\n",
       "      <td>500.000000</td>\n",
       "      <td>500.000000</td>\n",
       "      <td>500.00000</td>\n",
       "      <td>500.000000</td>\n",
       "      <td>500.000000</td>\n",
       "      <td>500.00000</td>\n",
       "    </tr>\n",
       "    <tr>\n",
       "      <th>mean</th>\n",
       "      <td>250.500000</td>\n",
       "      <td>316.472000</td>\n",
       "      <td>107.192000</td>\n",
       "      <td>3.114000</td>\n",
       "      <td>3.374000</td>\n",
       "      <td>3.48400</td>\n",
       "      <td>8.576440</td>\n",
       "      <td>0.560000</td>\n",
       "      <td>0.72174</td>\n",
       "    </tr>\n",
       "    <tr>\n",
       "      <th>std</th>\n",
       "      <td>144.481833</td>\n",
       "      <td>11.295148</td>\n",
       "      <td>6.081868</td>\n",
       "      <td>1.143512</td>\n",
       "      <td>0.991004</td>\n",
       "      <td>0.92545</td>\n",
       "      <td>0.604813</td>\n",
       "      <td>0.496884</td>\n",
       "      <td>0.14114</td>\n",
       "    </tr>\n",
       "    <tr>\n",
       "      <th>min</th>\n",
       "      <td>1.000000</td>\n",
       "      <td>290.000000</td>\n",
       "      <td>92.000000</td>\n",
       "      <td>1.000000</td>\n",
       "      <td>1.000000</td>\n",
       "      <td>1.00000</td>\n",
       "      <td>6.800000</td>\n",
       "      <td>0.000000</td>\n",
       "      <td>0.34000</td>\n",
       "    </tr>\n",
       "    <tr>\n",
       "      <th>25%</th>\n",
       "      <td>125.750000</td>\n",
       "      <td>308.000000</td>\n",
       "      <td>103.000000</td>\n",
       "      <td>2.000000</td>\n",
       "      <td>2.500000</td>\n",
       "      <td>3.00000</td>\n",
       "      <td>8.127500</td>\n",
       "      <td>0.000000</td>\n",
       "      <td>0.63000</td>\n",
       "    </tr>\n",
       "    <tr>\n",
       "      <th>50%</th>\n",
       "      <td>250.500000</td>\n",
       "      <td>317.000000</td>\n",
       "      <td>107.000000</td>\n",
       "      <td>3.000000</td>\n",
       "      <td>3.500000</td>\n",
       "      <td>3.50000</td>\n",
       "      <td>8.560000</td>\n",
       "      <td>1.000000</td>\n",
       "      <td>0.72000</td>\n",
       "    </tr>\n",
       "    <tr>\n",
       "      <th>75%</th>\n",
       "      <td>375.250000</td>\n",
       "      <td>325.000000</td>\n",
       "      <td>112.000000</td>\n",
       "      <td>4.000000</td>\n",
       "      <td>4.000000</td>\n",
       "      <td>4.00000</td>\n",
       "      <td>9.040000</td>\n",
       "      <td>1.000000</td>\n",
       "      <td>0.82000</td>\n",
       "    </tr>\n",
       "    <tr>\n",
       "      <th>max</th>\n",
       "      <td>500.000000</td>\n",
       "      <td>340.000000</td>\n",
       "      <td>120.000000</td>\n",
       "      <td>5.000000</td>\n",
       "      <td>5.000000</td>\n",
       "      <td>5.00000</td>\n",
       "      <td>9.920000</td>\n",
       "      <td>1.000000</td>\n",
       "      <td>0.97000</td>\n",
       "    </tr>\n",
       "  </tbody>\n",
       "</table>\n",
       "</div>"
      ],
      "text/plain": [
       "       Serial No.   GRE Score  TOEFL Score  University Rating         SOP  \\\n",
       "count  500.000000  500.000000   500.000000         500.000000  500.000000   \n",
       "mean   250.500000  316.472000   107.192000           3.114000    3.374000   \n",
       "std    144.481833   11.295148     6.081868           1.143512    0.991004   \n",
       "min      1.000000  290.000000    92.000000           1.000000    1.000000   \n",
       "25%    125.750000  308.000000   103.000000           2.000000    2.500000   \n",
       "50%    250.500000  317.000000   107.000000           3.000000    3.500000   \n",
       "75%    375.250000  325.000000   112.000000           4.000000    4.000000   \n",
       "max    500.000000  340.000000   120.000000           5.000000    5.000000   \n",
       "\n",
       "            LOR         CGPA    Research  Chance of Admit   \n",
       "count  500.00000  500.000000  500.000000         500.00000  \n",
       "mean     3.48400    8.576440    0.560000           0.72174  \n",
       "std      0.92545    0.604813    0.496884           0.14114  \n",
       "min      1.00000    6.800000    0.000000           0.34000  \n",
       "25%      3.00000    8.127500    0.000000           0.63000  \n",
       "50%      3.50000    8.560000    1.000000           0.72000  \n",
       "75%      4.00000    9.040000    1.000000           0.82000  \n",
       "max      5.00000    9.920000    1.000000           0.97000  "
      ]
     },
     "execution_count": 5,
     "metadata": {},
     "output_type": "execute_result"
    }
   ],
   "source": [
    "df.describe()"
   ]
  },
  {
   "cell_type": "code",
   "execution_count": 6,
   "metadata": {},
   "outputs": [
    {
     "data": {
      "text/plain": [
       "Chance of Admit      0.0\n",
       "Research             0.0\n",
       "CGPA                 0.0\n",
       "LOR                  0.0\n",
       "SOP                  0.0\n",
       "University Rating    0.0\n",
       "TOEFL Score          0.0\n",
       "GRE Score            0.0\n",
       "Serial No.           0.0\n",
       "dtype: float64"
      ]
     },
     "execution_count": 6,
     "metadata": {},
     "output_type": "execute_result"
    }
   ],
   "source": [
    "#Check for missing values\n",
    "(df.isnull().sum()/len(df)*100).sort_values(ascending=False)"
   ]
  },
  {
   "cell_type": "markdown",
   "metadata": {},
   "source": [
    "Since there are no missing values we will begin with EDA"
   ]
  },
  {
   "cell_type": "code",
   "execution_count": 7,
   "metadata": {},
   "outputs": [],
   "source": [
    "df.drop('Serial No.', inplace=True, axis=1)\n",
    "df.rename({'Chance of Admit ': 'Chance of Admit', 'LOR ':'LOR'}, axis=1, inplace=True)"
   ]
  },
  {
   "cell_type": "code",
   "execution_count": 8,
   "metadata": {},
   "outputs": [
    {
     "data": {
      "text/html": [
       "<style  type=\"text/css\" >\n",
       "    #T_c46e3bb0_e2a7_11e9_bcd8_a08cfd4f1bb7row0_col0 {\n",
       "            background-color:  #b40426;\n",
       "            color:  #f1f1f1;\n",
       "        }    #T_c46e3bb0_e2a7_11e9_bcd8_a08cfd4f1bb7row0_col1 {\n",
       "            background-color:  #f7b497;\n",
       "            color:  #000000;\n",
       "        }    #T_c46e3bb0_e2a7_11e9_bcd8_a08cfd4f1bb7row0_col2 {\n",
       "            background-color:  #b5cdfa;\n",
       "            color:  #000000;\n",
       "        }    #T_c46e3bb0_e2a7_11e9_bcd8_a08cfd4f1bb7row0_col3 {\n",
       "            background-color:  #aec9fc;\n",
       "            color:  #000000;\n",
       "        }    #T_c46e3bb0_e2a7_11e9_bcd8_a08cfd4f1bb7row0_col4 {\n",
       "            background-color:  #8badfd;\n",
       "            color:  #000000;\n",
       "        }    #T_c46e3bb0_e2a7_11e9_bcd8_a08cfd4f1bb7row0_col5 {\n",
       "            background-color:  #f6bda2;\n",
       "            color:  #000000;\n",
       "        }    #T_c46e3bb0_e2a7_11e9_bcd8_a08cfd4f1bb7row0_col6 {\n",
       "            background-color:  #9fbfff;\n",
       "            color:  #000000;\n",
       "        }    #T_c46e3bb0_e2a7_11e9_bcd8_a08cfd4f1bb7row0_col7 {\n",
       "            background-color:  #efcebd;\n",
       "            color:  #000000;\n",
       "        }    #T_c46e3bb0_e2a7_11e9_bcd8_a08cfd4f1bb7row1_col0 {\n",
       "            background-color:  #f5c1a9;\n",
       "            color:  #000000;\n",
       "        }    #T_c46e3bb0_e2a7_11e9_bcd8_a08cfd4f1bb7row1_col1 {\n",
       "            background-color:  #b40426;\n",
       "            color:  #f1f1f1;\n",
       "        }    #T_c46e3bb0_e2a7_11e9_bcd8_a08cfd4f1bb7row1_col2 {\n",
       "            background-color:  #bcd2f7;\n",
       "            color:  #000000;\n",
       "        }    #T_c46e3bb0_e2a7_11e9_bcd8_a08cfd4f1bb7row1_col3 {\n",
       "            background-color:  #c0d4f5;\n",
       "            color:  #000000;\n",
       "        }    #T_c46e3bb0_e2a7_11e9_bcd8_a08cfd4f1bb7row1_col4 {\n",
       "            background-color:  #93b5fe;\n",
       "            color:  #000000;\n",
       "        }    #T_c46e3bb0_e2a7_11e9_bcd8_a08cfd4f1bb7row1_col5 {\n",
       "            background-color:  #f4c6af;\n",
       "            color:  #000000;\n",
       "        }    #T_c46e3bb0_e2a7_11e9_bcd8_a08cfd4f1bb7row1_col6 {\n",
       "            background-color:  #6a8bef;\n",
       "            color:  #000000;\n",
       "        }    #T_c46e3bb0_e2a7_11e9_bcd8_a08cfd4f1bb7row1_col7 {\n",
       "            background-color:  #e7d7ce;\n",
       "            color:  #000000;\n",
       "        }    #T_c46e3bb0_e2a7_11e9_bcd8_a08cfd4f1bb7row2_col0 {\n",
       "            background-color:  #86a9fc;\n",
       "            color:  #000000;\n",
       "        }    #T_c46e3bb0_e2a7_11e9_bcd8_a08cfd4f1bb7row2_col1 {\n",
       "            background-color:  #adc9fd;\n",
       "            color:  #000000;\n",
       "        }    #T_c46e3bb0_e2a7_11e9_bcd8_a08cfd4f1bb7row2_col2 {\n",
       "            background-color:  #b40426;\n",
       "            color:  #f1f1f1;\n",
       "        }    #T_c46e3bb0_e2a7_11e9_bcd8_a08cfd4f1bb7row2_col3 {\n",
       "            background-color:  #e7d7ce;\n",
       "            color:  #000000;\n",
       "        }    #T_c46e3bb0_e2a7_11e9_bcd8_a08cfd4f1bb7row2_col4 {\n",
       "            background-color:  #b9d0f9;\n",
       "            color:  #000000;\n",
       "        }    #T_c46e3bb0_e2a7_11e9_bcd8_a08cfd4f1bb7row2_col5 {\n",
       "            background-color:  #c3d5f4;\n",
       "            color:  #000000;\n",
       "        }    #T_c46e3bb0_e2a7_11e9_bcd8_a08cfd4f1bb7row2_col6 {\n",
       "            background-color:  #5572df;\n",
       "            color:  #000000;\n",
       "        }    #T_c46e3bb0_e2a7_11e9_bcd8_a08cfd4f1bb7row2_col7 {\n",
       "            background-color:  #a5c3fe;\n",
       "            color:  #000000;\n",
       "        }    #T_c46e3bb0_e2a7_11e9_bcd8_a08cfd4f1bb7row3_col0 {\n",
       "            background-color:  #7699f6;\n",
       "            color:  #000000;\n",
       "        }    #T_c46e3bb0_e2a7_11e9_bcd8_a08cfd4f1bb7row3_col1 {\n",
       "            background-color:  #aac7fd;\n",
       "            color:  #000000;\n",
       "        }    #T_c46e3bb0_e2a7_11e9_bcd8_a08cfd4f1bb7row3_col2 {\n",
       "            background-color:  #e3d9d3;\n",
       "            color:  #000000;\n",
       "        }    #T_c46e3bb0_e2a7_11e9_bcd8_a08cfd4f1bb7row3_col3 {\n",
       "            background-color:  #b40426;\n",
       "            color:  #f1f1f1;\n",
       "        }    #T_c46e3bb0_e2a7_11e9_bcd8_a08cfd4f1bb7row3_col4 {\n",
       "            background-color:  #d3dbe7;\n",
       "            color:  #000000;\n",
       "        }    #T_c46e3bb0_e2a7_11e9_bcd8_a08cfd4f1bb7row3_col5 {\n",
       "            background-color:  #c7d7f0;\n",
       "            color:  #000000;\n",
       "        }    #T_c46e3bb0_e2a7_11e9_bcd8_a08cfd4f1bb7row3_col6 {\n",
       "            background-color:  #4b64d5;\n",
       "            color:  #f1f1f1;\n",
       "        }    #T_c46e3bb0_e2a7_11e9_bcd8_a08cfd4f1bb7row3_col7 {\n",
       "            background-color:  #9fbfff;\n",
       "            color:  #000000;\n",
       "        }    #T_c46e3bb0_e2a7_11e9_bcd8_a08cfd4f1bb7row4_col0 {\n",
       "            background-color:  #3b4cc0;\n",
       "            color:  #f1f1f1;\n",
       "        }    #T_c46e3bb0_e2a7_11e9_bcd8_a08cfd4f1bb7row4_col1 {\n",
       "            background-color:  #6687ed;\n",
       "            color:  #000000;\n",
       "        }    #T_c46e3bb0_e2a7_11e9_bcd8_a08cfd4f1bb7row4_col2 {\n",
       "            background-color:  #a5c3fe;\n",
       "            color:  #000000;\n",
       "        }    #T_c46e3bb0_e2a7_11e9_bcd8_a08cfd4f1bb7row4_col3 {\n",
       "            background-color:  #cad8ef;\n",
       "            color:  #000000;\n",
       "        }    #T_c46e3bb0_e2a7_11e9_bcd8_a08cfd4f1bb7row4_col4 {\n",
       "            background-color:  #b40426;\n",
       "            color:  #f1f1f1;\n",
       "        }    #T_c46e3bb0_e2a7_11e9_bcd8_a08cfd4f1bb7row4_col5 {\n",
       "            background-color:  #94b6ff;\n",
       "            color:  #000000;\n",
       "        }    #T_c46e3bb0_e2a7_11e9_bcd8_a08cfd4f1bb7row4_col6 {\n",
       "            background-color:  #3b4cc0;\n",
       "            color:  #f1f1f1;\n",
       "        }    #T_c46e3bb0_e2a7_11e9_bcd8_a08cfd4f1bb7row4_col7 {\n",
       "            background-color:  #82a6fb;\n",
       "            color:  #000000;\n",
       "        }    #T_c46e3bb0_e2a7_11e9_bcd8_a08cfd4f1bb7row5_col0 {\n",
       "            background-color:  #f5c1a9;\n",
       "            color:  #000000;\n",
       "        }    #T_c46e3bb0_e2a7_11e9_bcd8_a08cfd4f1bb7row5_col1 {\n",
       "            background-color:  #f6bea4;\n",
       "            color:  #000000;\n",
       "        }    #T_c46e3bb0_e2a7_11e9_bcd8_a08cfd4f1bb7row5_col2 {\n",
       "            background-color:  #d9dce1;\n",
       "            color:  #000000;\n",
       "        }    #T_c46e3bb0_e2a7_11e9_bcd8_a08cfd4f1bb7row5_col3 {\n",
       "            background-color:  #e0dbd8;\n",
       "            color:  #000000;\n",
       "        }    #T_c46e3bb0_e2a7_11e9_bcd8_a08cfd4f1bb7row5_col4 {\n",
       "            background-color:  #c7d7f0;\n",
       "            color:  #000000;\n",
       "        }    #T_c46e3bb0_e2a7_11e9_bcd8_a08cfd4f1bb7row5_col5 {\n",
       "            background-color:  #b40426;\n",
       "            color:  #f1f1f1;\n",
       "        }    #T_c46e3bb0_e2a7_11e9_bcd8_a08cfd4f1bb7row5_col6 {\n",
       "            background-color:  #7da0f9;\n",
       "            color:  #000000;\n",
       "        }    #T_c46e3bb0_e2a7_11e9_bcd8_a08cfd4f1bb7row5_col7 {\n",
       "            background-color:  #f59d7e;\n",
       "            color:  #000000;\n",
       "        }    #T_c46e3bb0_e2a7_11e9_bcd8_a08cfd4f1bb7row6_col0 {\n",
       "            background-color:  #536edd;\n",
       "            color:  #000000;\n",
       "        }    #T_c46e3bb0_e2a7_11e9_bcd8_a08cfd4f1bb7row6_col1 {\n",
       "            background-color:  #3b4cc0;\n",
       "            color:  #f1f1f1;\n",
       "        }    #T_c46e3bb0_e2a7_11e9_bcd8_a08cfd4f1bb7row6_col2 {\n",
       "            background-color:  #3b4cc0;\n",
       "            color:  #f1f1f1;\n",
       "        }    #T_c46e3bb0_e2a7_11e9_bcd8_a08cfd4f1bb7row6_col3 {\n",
       "            background-color:  #3b4cc0;\n",
       "            color:  #f1f1f1;\n",
       "        }    #T_c46e3bb0_e2a7_11e9_bcd8_a08cfd4f1bb7row6_col4 {\n",
       "            background-color:  #3b4cc0;\n",
       "            color:  #f1f1f1;\n",
       "        }    #T_c46e3bb0_e2a7_11e9_bcd8_a08cfd4f1bb7row6_col5 {\n",
       "            background-color:  #3b4cc0;\n",
       "            color:  #f1f1f1;\n",
       "        }    #T_c46e3bb0_e2a7_11e9_bcd8_a08cfd4f1bb7row6_col6 {\n",
       "            background-color:  #b40426;\n",
       "            color:  #f1f1f1;\n",
       "        }    #T_c46e3bb0_e2a7_11e9_bcd8_a08cfd4f1bb7row6_col7 {\n",
       "            background-color:  #3b4cc0;\n",
       "            color:  #f1f1f1;\n",
       "        }    #T_c46e3bb0_e2a7_11e9_bcd8_a08cfd4f1bb7row7_col0 {\n",
       "            background-color:  #f2cbb7;\n",
       "            color:  #000000;\n",
       "        }    #T_c46e3bb0_e2a7_11e9_bcd8_a08cfd4f1bb7row7_col1 {\n",
       "            background-color:  #f3c8b2;\n",
       "            color:  #000000;\n",
       "        }    #T_c46e3bb0_e2a7_11e9_bcd8_a08cfd4f1bb7row7_col2 {\n",
       "            background-color:  #d2dbe8;\n",
       "            color:  #000000;\n",
       "        }    #T_c46e3bb0_e2a7_11e9_bcd8_a08cfd4f1bb7row7_col3 {\n",
       "            background-color:  #d4dbe6;\n",
       "            color:  #000000;\n",
       "        }    #T_c46e3bb0_e2a7_11e9_bcd8_a08cfd4f1bb7row7_col4 {\n",
       "            background-color:  #cbd8ee;\n",
       "            color:  #000000;\n",
       "        }    #T_c46e3bb0_e2a7_11e9_bcd8_a08cfd4f1bb7row7_col5 {\n",
       "            background-color:  #f39475;\n",
       "            color:  #000000;\n",
       "        }    #T_c46e3bb0_e2a7_11e9_bcd8_a08cfd4f1bb7row7_col6 {\n",
       "            background-color:  #96b7ff;\n",
       "            color:  #000000;\n",
       "        }    #T_c46e3bb0_e2a7_11e9_bcd8_a08cfd4f1bb7row7_col7 {\n",
       "            background-color:  #b40426;\n",
       "            color:  #f1f1f1;\n",
       "        }</style><table id=\"T_c46e3bb0_e2a7_11e9_bcd8_a08cfd4f1bb7\" ><thead>    <tr>        <th class=\"blank level0\" ></th>        <th class=\"col_heading level0 col0\" >GRE Score</th>        <th class=\"col_heading level0 col1\" >TOEFL Score</th>        <th class=\"col_heading level0 col2\" >University Rating</th>        <th class=\"col_heading level0 col3\" >SOP</th>        <th class=\"col_heading level0 col4\" >LOR</th>        <th class=\"col_heading level0 col5\" >CGPA</th>        <th class=\"col_heading level0 col6\" >Research</th>        <th class=\"col_heading level0 col7\" >Chance of Admit</th>    </tr></thead><tbody>\n",
       "                <tr>\n",
       "                        <th id=\"T_c46e3bb0_e2a7_11e9_bcd8_a08cfd4f1bb7level0_row0\" class=\"row_heading level0 row0\" >GRE Score</th>\n",
       "                        <td id=\"T_c46e3bb0_e2a7_11e9_bcd8_a08cfd4f1bb7row0_col0\" class=\"data row0 col0\" >1</td>\n",
       "                        <td id=\"T_c46e3bb0_e2a7_11e9_bcd8_a08cfd4f1bb7row0_col1\" class=\"data row0 col1\" >0.8272</td>\n",
       "                        <td id=\"T_c46e3bb0_e2a7_11e9_bcd8_a08cfd4f1bb7row0_col2\" class=\"data row0 col2\" >0.635376</td>\n",
       "                        <td id=\"T_c46e3bb0_e2a7_11e9_bcd8_a08cfd4f1bb7row0_col3\" class=\"data row0 col3\" >0.613498</td>\n",
       "                        <td id=\"T_c46e3bb0_e2a7_11e9_bcd8_a08cfd4f1bb7row0_col4\" class=\"data row0 col4\" >0.524679</td>\n",
       "                        <td id=\"T_c46e3bb0_e2a7_11e9_bcd8_a08cfd4f1bb7row0_col5\" class=\"data row0 col5\" >0.825878</td>\n",
       "                        <td id=\"T_c46e3bb0_e2a7_11e9_bcd8_a08cfd4f1bb7row0_col6\" class=\"data row0 col6\" >0.563398</td>\n",
       "                        <td id=\"T_c46e3bb0_e2a7_11e9_bcd8_a08cfd4f1bb7row0_col7\" class=\"data row0 col7\" >0.810351</td>\n",
       "            </tr>\n",
       "            <tr>\n",
       "                        <th id=\"T_c46e3bb0_e2a7_11e9_bcd8_a08cfd4f1bb7level0_row1\" class=\"row_heading level0 row1\" >TOEFL Score</th>\n",
       "                        <td id=\"T_c46e3bb0_e2a7_11e9_bcd8_a08cfd4f1bb7row1_col0\" class=\"data row1 col0\" >0.8272</td>\n",
       "                        <td id=\"T_c46e3bb0_e2a7_11e9_bcd8_a08cfd4f1bb7row1_col1\" class=\"data row1 col1\" >1</td>\n",
       "                        <td id=\"T_c46e3bb0_e2a7_11e9_bcd8_a08cfd4f1bb7row1_col2\" class=\"data row1 col2\" >0.649799</td>\n",
       "                        <td id=\"T_c46e3bb0_e2a7_11e9_bcd8_a08cfd4f1bb7row1_col3\" class=\"data row1 col3\" >0.64441</td>\n",
       "                        <td id=\"T_c46e3bb0_e2a7_11e9_bcd8_a08cfd4f1bb7row1_col4\" class=\"data row1 col4\" >0.541563</td>\n",
       "                        <td id=\"T_c46e3bb0_e2a7_11e9_bcd8_a08cfd4f1bb7row1_col5\" class=\"data row1 col5\" >0.810574</td>\n",
       "                        <td id=\"T_c46e3bb0_e2a7_11e9_bcd8_a08cfd4f1bb7row1_col6\" class=\"data row1 col6\" >0.467012</td>\n",
       "                        <td id=\"T_c46e3bb0_e2a7_11e9_bcd8_a08cfd4f1bb7row1_col7\" class=\"data row1 col7\" >0.792228</td>\n",
       "            </tr>\n",
       "            <tr>\n",
       "                        <th id=\"T_c46e3bb0_e2a7_11e9_bcd8_a08cfd4f1bb7level0_row2\" class=\"row_heading level0 row2\" >University Rating</th>\n",
       "                        <td id=\"T_c46e3bb0_e2a7_11e9_bcd8_a08cfd4f1bb7row2_col0\" class=\"data row2 col0\" >0.635376</td>\n",
       "                        <td id=\"T_c46e3bb0_e2a7_11e9_bcd8_a08cfd4f1bb7row2_col1\" class=\"data row2 col1\" >0.649799</td>\n",
       "                        <td id=\"T_c46e3bb0_e2a7_11e9_bcd8_a08cfd4f1bb7row2_col2\" class=\"data row2 col2\" >1</td>\n",
       "                        <td id=\"T_c46e3bb0_e2a7_11e9_bcd8_a08cfd4f1bb7row2_col3\" class=\"data row2 col3\" >0.728024</td>\n",
       "                        <td id=\"T_c46e3bb0_e2a7_11e9_bcd8_a08cfd4f1bb7row2_col4\" class=\"data row2 col4\" >0.608651</td>\n",
       "                        <td id=\"T_c46e3bb0_e2a7_11e9_bcd8_a08cfd4f1bb7row2_col5\" class=\"data row2 col5\" >0.705254</td>\n",
       "                        <td id=\"T_c46e3bb0_e2a7_11e9_bcd8_a08cfd4f1bb7row2_col6\" class=\"data row2 col6\" >0.427047</td>\n",
       "                        <td id=\"T_c46e3bb0_e2a7_11e9_bcd8_a08cfd4f1bb7row2_col7\" class=\"data row2 col7\" >0.690132</td>\n",
       "            </tr>\n",
       "            <tr>\n",
       "                        <th id=\"T_c46e3bb0_e2a7_11e9_bcd8_a08cfd4f1bb7level0_row3\" class=\"row_heading level0 row3\" >SOP</th>\n",
       "                        <td id=\"T_c46e3bb0_e2a7_11e9_bcd8_a08cfd4f1bb7row3_col0\" class=\"data row3 col0\" >0.613498</td>\n",
       "                        <td id=\"T_c46e3bb0_e2a7_11e9_bcd8_a08cfd4f1bb7row3_col1\" class=\"data row3 col1\" >0.64441</td>\n",
       "                        <td id=\"T_c46e3bb0_e2a7_11e9_bcd8_a08cfd4f1bb7row3_col2\" class=\"data row3 col2\" >0.728024</td>\n",
       "                        <td id=\"T_c46e3bb0_e2a7_11e9_bcd8_a08cfd4f1bb7row3_col3\" class=\"data row3 col3\" >1</td>\n",
       "                        <td id=\"T_c46e3bb0_e2a7_11e9_bcd8_a08cfd4f1bb7row3_col4\" class=\"data row3 col4\" >0.663707</td>\n",
       "                        <td id=\"T_c46e3bb0_e2a7_11e9_bcd8_a08cfd4f1bb7row3_col5\" class=\"data row3 col5\" >0.712154</td>\n",
       "                        <td id=\"T_c46e3bb0_e2a7_11e9_bcd8_a08cfd4f1bb7row3_col6\" class=\"data row3 col6\" >0.408116</td>\n",
       "                        <td id=\"T_c46e3bb0_e2a7_11e9_bcd8_a08cfd4f1bb7row3_col7\" class=\"data row3 col7\" >0.684137</td>\n",
       "            </tr>\n",
       "            <tr>\n",
       "                        <th id=\"T_c46e3bb0_e2a7_11e9_bcd8_a08cfd4f1bb7level0_row4\" class=\"row_heading level0 row4\" >LOR</th>\n",
       "                        <td id=\"T_c46e3bb0_e2a7_11e9_bcd8_a08cfd4f1bb7row4_col0\" class=\"data row4 col0\" >0.524679</td>\n",
       "                        <td id=\"T_c46e3bb0_e2a7_11e9_bcd8_a08cfd4f1bb7row4_col1\" class=\"data row4 col1\" >0.541563</td>\n",
       "                        <td id=\"T_c46e3bb0_e2a7_11e9_bcd8_a08cfd4f1bb7row4_col2\" class=\"data row4 col2\" >0.608651</td>\n",
       "                        <td id=\"T_c46e3bb0_e2a7_11e9_bcd8_a08cfd4f1bb7row4_col3\" class=\"data row4 col3\" >0.663707</td>\n",
       "                        <td id=\"T_c46e3bb0_e2a7_11e9_bcd8_a08cfd4f1bb7row4_col4\" class=\"data row4 col4\" >1</td>\n",
       "                        <td id=\"T_c46e3bb0_e2a7_11e9_bcd8_a08cfd4f1bb7row4_col5\" class=\"data row4 col5\" >0.637469</td>\n",
       "                        <td id=\"T_c46e3bb0_e2a7_11e9_bcd8_a08cfd4f1bb7row4_col6\" class=\"data row4 col6\" >0.372526</td>\n",
       "                        <td id=\"T_c46e3bb0_e2a7_11e9_bcd8_a08cfd4f1bb7row4_col7\" class=\"data row4 col7\" >0.645365</td>\n",
       "            </tr>\n",
       "            <tr>\n",
       "                        <th id=\"T_c46e3bb0_e2a7_11e9_bcd8_a08cfd4f1bb7level0_row5\" class=\"row_heading level0 row5\" >CGPA</th>\n",
       "                        <td id=\"T_c46e3bb0_e2a7_11e9_bcd8_a08cfd4f1bb7row5_col0\" class=\"data row5 col0\" >0.825878</td>\n",
       "                        <td id=\"T_c46e3bb0_e2a7_11e9_bcd8_a08cfd4f1bb7row5_col1\" class=\"data row5 col1\" >0.810574</td>\n",
       "                        <td id=\"T_c46e3bb0_e2a7_11e9_bcd8_a08cfd4f1bb7row5_col2\" class=\"data row5 col2\" >0.705254</td>\n",
       "                        <td id=\"T_c46e3bb0_e2a7_11e9_bcd8_a08cfd4f1bb7row5_col3\" class=\"data row5 col3\" >0.712154</td>\n",
       "                        <td id=\"T_c46e3bb0_e2a7_11e9_bcd8_a08cfd4f1bb7row5_col4\" class=\"data row5 col4\" >0.637469</td>\n",
       "                        <td id=\"T_c46e3bb0_e2a7_11e9_bcd8_a08cfd4f1bb7row5_col5\" class=\"data row5 col5\" >1</td>\n",
       "                        <td id=\"T_c46e3bb0_e2a7_11e9_bcd8_a08cfd4f1bb7row5_col6\" class=\"data row5 col6\" >0.501311</td>\n",
       "                        <td id=\"T_c46e3bb0_e2a7_11e9_bcd8_a08cfd4f1bb7row5_col7\" class=\"data row5 col7\" >0.882413</td>\n",
       "            </tr>\n",
       "            <tr>\n",
       "                        <th id=\"T_c46e3bb0_e2a7_11e9_bcd8_a08cfd4f1bb7level0_row6\" class=\"row_heading level0 row6\" >Research</th>\n",
       "                        <td id=\"T_c46e3bb0_e2a7_11e9_bcd8_a08cfd4f1bb7row6_col0\" class=\"data row6 col0\" >0.563398</td>\n",
       "                        <td id=\"T_c46e3bb0_e2a7_11e9_bcd8_a08cfd4f1bb7row6_col1\" class=\"data row6 col1\" >0.467012</td>\n",
       "                        <td id=\"T_c46e3bb0_e2a7_11e9_bcd8_a08cfd4f1bb7row6_col2\" class=\"data row6 col2\" >0.427047</td>\n",
       "                        <td id=\"T_c46e3bb0_e2a7_11e9_bcd8_a08cfd4f1bb7row6_col3\" class=\"data row6 col3\" >0.408116</td>\n",
       "                        <td id=\"T_c46e3bb0_e2a7_11e9_bcd8_a08cfd4f1bb7row6_col4\" class=\"data row6 col4\" >0.372526</td>\n",
       "                        <td id=\"T_c46e3bb0_e2a7_11e9_bcd8_a08cfd4f1bb7row6_col5\" class=\"data row6 col5\" >0.501311</td>\n",
       "                        <td id=\"T_c46e3bb0_e2a7_11e9_bcd8_a08cfd4f1bb7row6_col6\" class=\"data row6 col6\" >1</td>\n",
       "                        <td id=\"T_c46e3bb0_e2a7_11e9_bcd8_a08cfd4f1bb7row6_col7\" class=\"data row6 col7\" >0.545871</td>\n",
       "            </tr>\n",
       "            <tr>\n",
       "                        <th id=\"T_c46e3bb0_e2a7_11e9_bcd8_a08cfd4f1bb7level0_row7\" class=\"row_heading level0 row7\" >Chance of Admit</th>\n",
       "                        <td id=\"T_c46e3bb0_e2a7_11e9_bcd8_a08cfd4f1bb7row7_col0\" class=\"data row7 col0\" >0.810351</td>\n",
       "                        <td id=\"T_c46e3bb0_e2a7_11e9_bcd8_a08cfd4f1bb7row7_col1\" class=\"data row7 col1\" >0.792228</td>\n",
       "                        <td id=\"T_c46e3bb0_e2a7_11e9_bcd8_a08cfd4f1bb7row7_col2\" class=\"data row7 col2\" >0.690132</td>\n",
       "                        <td id=\"T_c46e3bb0_e2a7_11e9_bcd8_a08cfd4f1bb7row7_col3\" class=\"data row7 col3\" >0.684137</td>\n",
       "                        <td id=\"T_c46e3bb0_e2a7_11e9_bcd8_a08cfd4f1bb7row7_col4\" class=\"data row7 col4\" >0.645365</td>\n",
       "                        <td id=\"T_c46e3bb0_e2a7_11e9_bcd8_a08cfd4f1bb7row7_col5\" class=\"data row7 col5\" >0.882413</td>\n",
       "                        <td id=\"T_c46e3bb0_e2a7_11e9_bcd8_a08cfd4f1bb7row7_col6\" class=\"data row7 col6\" >0.545871</td>\n",
       "                        <td id=\"T_c46e3bb0_e2a7_11e9_bcd8_a08cfd4f1bb7row7_col7\" class=\"data row7 col7\" >1</td>\n",
       "            </tr>\n",
       "    </tbody></table>"
      ],
      "text/plain": [
       "<pandas.io.formats.style.Styler at 0x1f928973550>"
      ]
     },
     "execution_count": 8,
     "metadata": {},
     "output_type": "execute_result"
    }
   ],
   "source": [
    "## Correlation coeffecients \n",
    "df.corr().abs().style.background_gradient(cmap='coolwarm')"
   ]
  },
  {
   "cell_type": "code",
   "execution_count": 9,
   "metadata": {},
   "outputs": [
    {
     "data": {
      "text/plain": [
       "GRE Score            0.810351\n",
       "TOEFL Score          0.792228\n",
       "University Rating    0.690132\n",
       "SOP                  0.684137\n",
       "LOR                  0.645365\n",
       "CGPA                 0.882413\n",
       "Research             0.545871\n",
       "Chance of Admit      1.000000\n",
       "dtype: float64"
      ]
     },
     "execution_count": 9,
     "metadata": {},
     "output_type": "execute_result"
    }
   ],
   "source": [
    "df.corrwith(df['Chance of Admit'])"
   ]
  },
  {
   "cell_type": "markdown",
   "metadata": {},
   "source": [
    "Exploring GRE Scores"
   ]
  },
  {
   "cell_type": "code",
   "execution_count": 10,
   "metadata": {},
   "outputs": [
    {
     "data": {
      "text/plain": [
       "count    500.000000\n",
       "mean     316.472000\n",
       "std       11.295148\n",
       "min      290.000000\n",
       "25%      308.000000\n",
       "50%      317.000000\n",
       "75%      325.000000\n",
       "max      340.000000\n",
       "Name: GRE Score, dtype: float64"
      ]
     },
     "execution_count": 10,
     "metadata": {},
     "output_type": "execute_result"
    }
   ],
   "source": [
    "# Isolating GRE Score data\n",
    "GRE = df['GRE Score']\n",
    "GRE.describe()"
   ]
  },
  {
   "cell_type": "code",
   "execution_count": 11,
   "metadata": {
    "scrolled": false
   },
   "outputs": [
    {
     "data": {
      "image/png": "[encoded data removed]",
      "text/plain": [
       "<Figure size 432x288 with 1 Axes>"
      ]
     },
     "metadata": {
      "needs_background": "light"
     },
     "output_type": "display_data"
    }
   ],
   "source": [
    "# # Probability Distribution\n",
    "sbn.distplot(GRE).set_title('Probability Distribution for GRE Test Scores', size='30')\n",
    "plt.show()"
   ]
  },
  {
   "cell_type": "code",
   "execution_count": 12,
   "metadata": {},
   "outputs": [
    {
     "data": {
      "text/plain": [
       "<matplotlib.axes._subplots.AxesSubplot at 0x1f92d6bdfd0>"
      ]
     },
     "execution_count": 12,
     "metadata": {},
     "output_type": "execute_result"
    },
    {
     "data": {
      "image/png": "[encoded data removed]",
      "text/plain": [
       "<Figure size 432x288 with 1 Axes>"
      ]
     },
     "metadata": {
      "needs_background": "light"
     },
     "output_type": "display_data"
    }
   ],
   "source": [
    "GRE.plot(kind='box')"
   ]
  },
  {
   "cell_type": "markdown",
   "metadata": {},
   "source": [
    "Exploring TOEFL Scores"
   ]
  },
  {
   "cell_type": "code",
   "execution_count": 13,
   "metadata": {},
   "outputs": [
    {
     "data": {
      "text/plain": [
       "count    500.000000\n",
       "mean     107.192000\n",
       "std        6.081868\n",
       "min       92.000000\n",
       "25%      103.000000\n",
       "50%      107.000000\n",
       "75%      112.000000\n",
       "max      120.000000\n",
       "Name: TOEFL Score, dtype: float64"
      ]
     },
     "execution_count": 13,
     "metadata": {},
     "output_type": "execute_result"
    }
   ],
   "source": [
    "# Isolating TOEFL Score data\n",
    "TOEFL = df['TOEFL Score']\n",
    "TOEFL.describe()"
   ]
  },
  {
   "cell_type": "code",
   "execution_count": 14,
   "metadata": {},
   "outputs": [
    {
     "data": {
      "image/png": "[encoded data removed]",
      "text/plain": [
       "<Figure size 432x288 with 1 Axes>"
      ]
     },
     "metadata": {
      "needs_background": "light"
     },
     "output_type": "display_data"
    }
   ],
   "source": [
    "# # Probability Distribution\n",
    "sbn.distplot(TOEFL).set_title('Probability Distribution for TOEFL Test Scores', size='25')\n",
    "plt.show()"
   ]
  },
  {
   "cell_type": "code",
   "execution_count": 15,
   "metadata": {},
   "outputs": [
    {
     "data": {
      "text/plain": [
       "<matplotlib.axes._subplots.AxesSubplot at 0x1f92c47f128>"
      ]
     },
     "execution_count": 15,
     "metadata": {},
     "output_type": "execute_result"
    },
    {
     "data": {
      "image/png": "[encoded data removed]",
      "text/plain": [
       "<Figure size 432x288 with 1 Axes>"
      ]
     },
     "metadata": {
      "needs_background": "light"
     },
     "output_type": "display_data"
    }
   ],
   "source": [
    "TOEFL.plot(kind='box')"
   ]
  },
  {
   "cell_type": "markdown",
   "metadata": {},
   "source": [
    "Applying Linear Regression"
   ]
  },
  {
   "cell_type": "code",
   "execution_count": 16,
   "metadata": {},
   "outputs": [],
   "source": [
    "x=df.drop('Chance of Admit',axis=1)\n",
    "y=df['Chance of Admit']"
   ]
  },
  {
   "cell_type": "code",
   "execution_count": 17,
   "metadata": {},
   "outputs": [],
   "source": [
    "from sklearn.metrics import mean_absolute_error,mean_squared_error,r2_score\n",
    "from sklearn.linear_model import LinearRegression\n",
    "from sklearn.model_selection import train_test_split\n",
    "lr = LinearRegression(normalize=True, fit_intercept=True)\n",
    "trainX,testX, trainY,testY = train_test_split(x,y,test_size=0.33, random_state=1)"
   ]
  },
  {
   "cell_type": "code",
   "execution_count": 18,
   "metadata": {},
   "outputs": [
    {
     "data": {
      "text/plain": [
       "LinearRegression(copy_X=True, fit_intercept=True, n_jobs=None, normalize=True)"
      ]
     },
     "execution_count": 18,
     "metadata": {},
     "output_type": "execute_result"
    }
   ],
   "source": [
    "lr.fit(trainX,trainY)"
   ]
  },
  {
   "cell_type": "code",
   "execution_count": 19,
   "metadata": {},
   "outputs": [],
   "source": [
    "pred = lr.predict(testX)"
   ]
  },
  {
   "cell_type": "code",
   "execution_count": 20,
   "metadata": {},
   "outputs": [
    {
     "name": "stdout",
     "output_type": "stream",
     "text": [
      "Mean Absolute Error is  0.045051938982238596\n",
      "R2 Score is  0.8090028838425638\n"
     ]
    }
   ],
   "source": [
    "print('Mean Absolute Error is ',mean_absolute_error(y_pred=pred,y_true=testY))\n",
    "print('R2 Score is ',r2_score(y_pred=pred,y_true=testY))"
   ]
  }
 ],
 "metadata": {
  "kernelspec": {
   "display_name": "Python 3",
   "language": "python",
   "name": "python3"
  },
  "language_info": {
   "codemirror_mode": {
    "name": "ipython",
    "version": 3
   },
   "file_extension": ".py",
   "mimetype": "text/x-python",
   "name": "python",
   "nbconvert_exporter": "python",
   "pygments_lexer": "ipython3",
   "version": "3.7.3"
  }
 },
 "nbformat": 4,
 "nbformat_minor": 2
}
