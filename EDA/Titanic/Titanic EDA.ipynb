{
 "cells": [
  {
   "cell_type": "markdown",
   "metadata": {},
   "source": [
    "|Variable|Definition|Key|\n",
    "|---|---|---|\n",
    "|survival|Survival|0 = No, 1 = Yes|\n",
    "|pclass|Ticket class|1 = 1st, 2 = 2nd, 3 = 3rd|\n",
    "|gender|gender ||\n",
    "|Age |Age in years| |\n",
    "|sibsp |number of siblings / spouses aboard|\t|\n",
    "|parch |number of parents / children aboard| |\n",
    "|ticket|Ticket number ||\n",
    "|fare | fare| \t|\n",
    "|cabin |Cabin number|\t|\n",
    "|embarked|Port of Embarkation|C = Cherbourg, Q = Queenstown, S = Southampton|\n",
    "|boat | Lifeboat||\n",
    "|body | Body Identification Number||\n",
    "|home.dest| Home/destination||"
   ]
  },
  {
   "cell_type": "markdown",
   "metadata": {},
   "source": []
  },
  {
   "cell_type": "code",
   "execution_count": 1,
   "metadata": {},
   "outputs": [
    {
     "name": "stdout",
     "output_type": "stream",
     "text": [
      "         Unnamed: 0       pclass     survived              name gender  \\\n",
      "count   1309.000000  1309.000000  1309.000000              1309   1309   \n",
      "unique          NaN          NaN          NaN              1307      2   \n",
      "top             NaN          NaN          NaN  Kelly, Mr. James   male   \n",
      "freq            NaN          NaN          NaN                 2    843   \n",
      "mean     654.000000     2.294882     0.381971               NaN    NaN   \n",
      "std      378.020061     0.837836     0.486055               NaN    NaN   \n",
      "min        0.000000     1.000000     0.000000               NaN    NaN   \n",
      "25%      327.000000     2.000000     0.000000               NaN    NaN   \n",
      "50%      654.000000     3.000000     0.000000               NaN    NaN   \n",
      "75%      981.000000     3.000000     1.000000               NaN    NaN   \n",
      "max     1308.000000     3.000000     1.000000               NaN    NaN   \n",
      "\n",
      "                age        sibsp        parch    ticket    fare        cabin  \\\n",
      "count   1046.000000  1309.000000  1309.000000      1309    1308          295   \n",
      "unique          NaN          NaN          NaN       929     263          186   \n",
      "top             NaN          NaN          NaN  CA. 2343  $8.05   C23 C25 C27   \n",
      "freq            NaN          NaN          NaN        11      60            6   \n",
      "mean      29.881135     0.498854     0.385027       NaN     NaN          NaN   \n",
      "std       14.413500     1.041658     0.865560       NaN     NaN          NaN   \n",
      "min        0.166700     0.000000     0.000000       NaN     NaN          NaN   \n",
      "25%       21.000000     0.000000     0.000000       NaN     NaN          NaN   \n",
      "50%       28.000000     0.000000     0.000000       NaN     NaN          NaN   \n",
      "75%       39.000000     1.000000     0.000000       NaN     NaN          NaN   \n",
      "max       80.000000     8.000000     9.000000       NaN     NaN          NaN   \n",
      "\n",
      "       embarked boat        body     home.dest  \n",
      "count      1307  486  121.000000           745  \n",
      "unique        3   27         NaN           369  \n",
      "top           S   13         NaN  New York, NY  \n",
      "freq        914   39         NaN            64  \n",
      "mean        NaN  NaN  160.809917           NaN  \n",
      "std         NaN  NaN   97.696922           NaN  \n",
      "min         NaN  NaN    1.000000           NaN  \n",
      "25%         NaN  NaN   72.000000           NaN  \n",
      "50%         NaN  NaN  155.000000           NaN  \n",
      "75%         NaN  NaN  256.000000           NaN  \n",
      "max         NaN  NaN  328.000000           NaN  \n"
     ]
    }
   ],
   "source": [
    "# Read data and describe it\n",
    "import pandas as pd\n",
    "import numpy as np\n",
    "import matplotlib.pyplot as plt\n",
    "%matplotlib inline\n",
    "df = pd.read_csv(r'C:\\Jupyter\\DSML\\DSML\\EDA\\Titanic\\titanic_dataset.csv')\n",
    "print(df.describe(include='all'))\n",
    "#print(df.pclass.is_unique)"
   ]
  },
  {
   "cell_type": "code",
   "execution_count": 2,
   "metadata": {},
   "outputs": [
    {
     "name": "stdout",
     "output_type": "stream",
     "text": [
      "False    8\n",
      "True     7\n",
      "dtype: int64\n",
      "15\n",
      "age\n",
      "fare\n",
      "cabin\n",
      "embarked\n",
      "boat\n",
      "body\n",
      "home.dest\n",
      "(1309, 15)\n"
     ]
    }
   ],
   "source": [
    "# Find columns with missingdata\n",
    "# Print shape of dataset\n",
    "print(df.isnull().any().value_counts())\n",
    "print(df.isnull().any().value_counts().sum())\n",
    "cols = df.columns\n",
    "for cols in df.columns:\n",
    "    if (df[cols].isnull().any()):\n",
    "        print(cols)\n",
    "print(df.shape)"
   ]
  },
  {
   "cell_type": "code",
   "execution_count": 3,
   "metadata": {},
   "outputs": [
    {
     "name": "stdout",
     "output_type": "stream",
     "text": [
      "Unnamed: 0      int64\n",
      "pclass          int64\n",
      "survived        int64\n",
      "name           object\n",
      "gender         object\n",
      "age           float64\n",
      "sibsp           int64\n",
      "parch           int64\n",
      "ticket         object\n",
      "fare           object\n",
      "embarked       object\n",
      "dtype: object\n"
     ]
    }
   ],
   "source": [
    "#drop columns with more than 25% missing data\n",
    "#print(df.isna().any())\n",
    "#print(df.isna().sum()/df.shape[0])\n",
    "df=df.loc[:, pd.notnull(df).sum()>len(df)*.75]\n",
    "print(df.dtypes)"
   ]
  },
  {
   "cell_type": "code",
   "execution_count": 4,
   "metadata": {},
   "outputs": [
    {
     "data": {
      "text/plain": [
       "Unnamed: 0      int64\n",
       "pclass          int64\n",
       "survived        int64\n",
       "name           object\n",
       "gender         object\n",
       "age           float64\n",
       "sibsp           int64\n",
       "parch           int64\n",
       "ticket         object\n",
       "fare           object\n",
       "embarked       object\n",
       "dtype: object"
      ]
     },
     "execution_count": 4,
     "metadata": {},
     "output_type": "execute_result"
    }
   ],
   "source": [
    "#check data types of all columns\n",
    "df.dtypes"
   ]
  },
  {
   "cell_type": "code",
   "execution_count": 5,
   "metadata": {},
   "outputs": [
    {
     "name": "stdout",
     "output_type": "stream",
     "text": [
      "<bound method NDFrame.head of 0       211.34\n",
      "1       151.55\n",
      "2       151.55\n",
      "3       151.55\n",
      "4       151.55\n",
      "5        26.55\n",
      "6        77.96\n",
      "7         0.00\n",
      "8        51.48\n",
      "9        49.50\n",
      "10      227.53\n",
      "11      227.53\n",
      "12       69.30\n",
      "13       78.85\n",
      "14       30.00\n",
      "15       25.93\n",
      "16      247.52\n",
      "17      247.52\n",
      "18       76.29\n",
      "19       75.24\n",
      "20       52.55\n",
      "21       52.55\n",
      "22       30.00\n",
      "23      227.53\n",
      "24      221.78\n",
      "25       26.00\n",
      "26       91.08\n",
      "27       91.08\n",
      "28      135.63\n",
      "29       26.55\n",
      "         ...  \n",
      "1279      7.85\n",
      "1280      7.90\n",
      "1281      9.00\n",
      "1282      8.05\n",
      "1283      7.55\n",
      "1284      8.05\n",
      "1285      9.50\n",
      "1286      7.23\n",
      "1287      7.75\n",
      "1288      6.50\n",
      "1289      6.50\n",
      "1290      7.00\n",
      "1291      8.71\n",
      "1292      7.55\n",
      "1293      8.05\n",
      "1294     16.10\n",
      "1295      7.25\n",
      "1296      8.66\n",
      "1297      7.25\n",
      "1298      9.50\n",
      "1299     14.45\n",
      "1300     14.45\n",
      "1301      7.23\n",
      "1302      7.23\n",
      "1303     14.46\n",
      "1304     14.45\n",
      "1305     14.45\n",
      "1306      7.23\n",
      "1307      7.23\n",
      "1308      7.88\n",
      "Name: fare, Length: 1309, dtype: float64> float64\n"
     ]
    }
   ],
   "source": [
    "#convert price to numeric\n",
    "col=df.fare.str.replace('$','')\n",
    "col=col.astype(float)\n",
    "print(col.head,col.dtype)\n",
    "\n",
    "#df.describe()\n",
    "df.fare=col"
   ]
  },
  {
   "cell_type": "code",
   "execution_count": 6,
   "metadata": {},
   "outputs": [
    {
     "name": "stdout",
     "output_type": "stream",
     "text": [
      "Unnamed: 0    False\n",
      "pclass        False\n",
      "survived      False\n",
      "name          False\n",
      "gender        False\n",
      "age            True\n",
      "sibsp         False\n",
      "parch         False\n",
      "ticket        False\n",
      "fare           True\n",
      "embarked       True\n",
      "dtype: bool\n",
      "0.20091673032849502\n",
      "0.0007639419404125286\n",
      "0.0015278838808250573\n",
      "The list of columns with any null values are  ['age', 'fare', 'embarked']\n"
     ]
    }
   ],
   "source": [
    "#find columns still having missing/na values and also count of missing data\n",
    "print(df.isna().any())\n",
    "k=list()\n",
    "for cols in df.columns:\n",
    "    if (df[cols].isnull().any()):\n",
    "        k.append(cols)\n",
    "        print(df[cols].isna().sum()/df.shape[0])\n",
    "print('The list of columns with any null values are ',k)"
   ]
  },
  {
   "cell_type": "code",
   "execution_count": 7,
   "metadata": {},
   "outputs": [],
   "source": [
    "#fill na with mean for fare and age column column.\n",
    "df.age.fillna(df.age.mean(),inplace=True)\n",
    "df.fare.fillna(df.fare.mean(),inplace=True)\n"
   ]
  },
  {
   "cell_type": "code",
   "execution_count": 8,
   "metadata": {},
   "outputs": [
    {
     "name": "stdout",
     "output_type": "stream",
     "text": [
      "Unnamed: 0    False\n",
      "pclass        False\n",
      "survived      False\n",
      "name          False\n",
      "gender        False\n",
      "age           False\n",
      "sibsp         False\n",
      "parch         False\n",
      "ticket        False\n",
      "fare          False\n",
      "embarked      False\n",
      "dtype: bool\n"
     ]
    }
   ],
   "source": [
    "#drop na values for embarked column\n",
    "df=df.dropna(subset=['embarked'])\n",
    "print(df.isna().any())"
   ]
  },
  {
   "cell_type": "code",
   "execution_count": 9,
   "metadata": {},
   "outputs": [
    {
     "name": "stdout",
     "output_type": "stream",
     "text": [
      "0    809\n",
      "1    498\n",
      "Name: survived, dtype: int64\n",
      "0    0.618975\n",
      "1    0.381025\n",
      "Name: survived, dtype: float64\n"
     ]
    }
   ],
   "source": [
    "#- for surviced column replace 0 with D and 1 with A\n",
    "# find the frequency of different values in survived column\n",
    "print(df.survived.value_counts())\n",
    "survived = {0:'D',1:'A'}\n",
    "\n",
    "#df.survived = [survived[col] for col in df.survived]\n",
    "print(df.survived.value_counts()/df.shape[0])"
   ]
  },
  {
   "cell_type": "code",
   "execution_count": 10,
   "metadata": {},
   "outputs": [
    {
     "name": "stdout",
     "output_type": "stream",
     "text": [
      "3    709\n",
      "1    321\n",
      "2    277\n",
      "Name: pclass, dtype: int64\n"
     ]
    }
   ],
   "source": [
    "#find different pclass and no of people in each class\n",
    "print(df.pclass.value_counts())"
   ]
  },
  {
   "cell_type": "code",
   "execution_count": 11,
   "metadata": {},
   "outputs": [
    {
     "name": "stdout",
     "output_type": "stream",
     "text": [
      "      Unnamed: 0  pclass  survived  \\\n",
      "14            14       1         1   \n",
      "61            61       1         1   \n",
      "1235        1235       3         0   \n",
      "135          135       1         0   \n",
      "9              9       1         0   \n",
      "\n",
      "                                                   name  gender   age  sibsp  \\\n",
      "14                 Barkworth, Mr. Algernon Henry Wilson    male  80.0      0   \n",
      "61    Cavendish, Mrs. Tyrell William (Julia Florence...  female  76.0      1   \n",
      "1235                                Svensson, Mr. Johan    male  74.0      0   \n",
      "135                           Goldschmidt, Mr. George B    male  71.0      0   \n",
      "9                               Artagaveytia, Mr. Ramon    male  71.0      0   \n",
      "\n",
      "      parch    ticket   fare embarked  \n",
      "14        0     27042  30.00        S  \n",
      "61        0     19877  78.85        S  \n",
      "1235      0    347060   7.78        S  \n",
      "135       0  PC 17754  34.65        C  \n",
      "9         0  PC 17609  49.50        C  \n",
      "****************************************************************************************************\n",
      "male      4\n",
      "female    1\n",
      "Name: gender, dtype: int64\n"
     ]
    }
   ],
   "source": [
    "#find top 5 people with highest values of age. Count no of male and females in the top 5\n",
    "dfgenderAge = df.sort_values(by=['age'], ascending = False)\n",
    "dfgenderAge1 = dfgenderAge.head(5)\n",
    "print(dfgenderAge1)\n",
    "print('*'*100)\n",
    "print(dfgenderAge1.gender.value_counts())\n"
   ]
  },
  {
   "cell_type": "code",
   "execution_count": 12,
   "metadata": {},
   "outputs": [
    {
     "name": "stdout",
     "output_type": "stream",
     "text": [
      "gender\n",
      "female    76.0\n",
      "male      80.0\n",
      "Name: age, dtype: float64\n"
     ]
    }
   ],
   "source": [
    "#find max age male and female who survived\n",
    "df1=df.survived==1\n",
    "df1=df[df1]\n",
    "k=df1.groupby(by=['gender'])\n",
    "a=k.age.max()\n",
    "print(a)"
   ]
  },
  {
   "cell_type": "code",
   "execution_count": 13,
   "metadata": {},
   "outputs": [
    {
     "name": "stdout",
     "output_type": "stream",
     "text": [
      "gender\n",
      "female    28.795931\n",
      "male      30.430716\n",
      "Name: age, dtype: float64\n"
     ]
    }
   ],
   "source": [
    "#get average age by gender\n",
    "k=df.groupby(by=['gender'])\n",
    "a=k.age.mean()\n",
    "print(a)"
   ]
  },
  {
   "cell_type": "code",
   "execution_count": 14,
   "metadata": {},
   "outputs": [
    {
     "name": "stdout",
     "output_type": "stream",
     "text": [
      "survived\n",
      "0    30.389368\n",
      "1    28.974711\n",
      "Name: age, dtype: float64\n"
     ]
    }
   ],
   "source": [
    "#get average age by people survived vs not-survived\n",
    "k=df.groupby(by=['survived'])\n",
    "a=k.age.mean()\n",
    "print(a)"
   ]
  },
  {
   "cell_type": "markdown",
   "metadata": {},
   "source": [
    "Charts"
   ]
  },
  {
   "cell_type": "code",
   "execution_count": 15,
   "metadata": {},
   "outputs": [
    {
     "name": "stdout",
     "output_type": "stream",
     "text": [
      "male      843\n",
      "female    464\n",
      "Name: gender, dtype: int64\n"
     ]
    },
    {
     "data": {
      "text/plain": [
       "<matplotlib.axes._subplots.AxesSubplot at 0x1cd38536278>"
      ]
     },
     "execution_count": 15,
     "metadata": {},
     "output_type": "execute_result"
    },
    {
     "data": {
      "image/png": "[encoded data removed]",
      "text/plain": [
       "<Figure size 432x288 with 1 Axes>"
      ]
     },
     "metadata": {
      "needs_background": "light"
     },
     "output_type": "display_data"
    }
   ],
   "source": [
    "#bar chart showing number of people by the sex of the person\n",
    "r=df.gender.value_counts()\n",
    "print(r)\n",
    "r.plot(kind='bar')"
   ]
  },
  {
   "cell_type": "code",
   "execution_count": 16,
   "metadata": {},
   "outputs": [
    {
     "data": {
      "image/png": "[encoded data removed]",
      "text/plain": [
       "<Figure size 432x288 with 1 Axes>"
      ]
     },
     "metadata": {},
     "output_type": "display_data"
    }
   ],
   "source": [
    "\n",
    "#Pie chart doing the same \n",
    "plt.pie(r,labels=r.index,shadow=True,explode=[0,0.1])\n",
    "plt.show()"
   ]
  },
  {
   "cell_type": "code",
   "execution_count": 17,
   "metadata": {},
   "outputs": [
    {
     "data": {
      "image/png": "[encoded data removed]",
      "text/plain": [
       "<Figure size 432x288 with 1 Axes>"
      ]
     },
     "metadata": {
      "needs_background": "light"
     },
     "output_type": "display_data"
    }
   ],
   "source": [
    "# plot histogram of ages of people\n",
    "plt.hist(df['age'],width=2,bins=20)\n",
    "plt.show()"
   ]
  },
  {
   "cell_type": "code",
   "execution_count": 18,
   "metadata": {},
   "outputs": [
    {
     "data": {
      "text/plain": [
       "<matplotlib.axes._subplots.AxesSubplot at 0x1cd38a5f4e0>"
      ]
     },
     "execution_count": 18,
     "metadata": {},
     "output_type": "execute_result"
    },
    {
     "data": {
      "image/png": "[encoded data removed]",
      "text/plain": [
       "<Figure size 432x288 with 1 Axes>"
      ]
     },
     "metadata": {
      "needs_background": "light"
     },
     "output_type": "display_data"
    }
   ],
   "source": [
    "#box plot to look at ages of people \n",
    "df.age.plot(kind='box')"
   ]
  },
  {
   "cell_type": "code",
   "execution_count": 19,
   "metadata": {},
   "outputs": [
    {
     "data": {
      "text/plain": [
       "<matplotlib.collections.PathCollection at 0x1cd38c1a208>"
      ]
     },
     "execution_count": 19,
     "metadata": {},
     "output_type": "execute_result"
    },
    {
     "data": {
      "image/png": "[encoded data removed]",
      "text/plain": [
       "<Figure size 432x288 with 1 Axes>"
      ]
     },
     "metadata": {
      "needs_background": "light"
     },
     "output_type": "display_data"
    }
   ],
   "source": [
    "#Scatter plot by age and pclass\n",
    "plt.scatter(df.age.values,df.pclass.values)"
   ]
  },
  {
   "cell_type": "code",
   "execution_count": 20,
   "metadata": {},
   "outputs": [
    {
     "name": "stdout",
     "output_type": "stream",
     "text": [
      "3    709\n",
      "1    321\n",
      "2    277\n",
      "Name: pclass, dtype: int64\n"
     ]
    },
    {
     "data": {
      "text/plain": [
       "<matplotlib.axes._subplots.AxesSubplot at 0x1cd38c9d630>"
      ]
     },
     "execution_count": 20,
     "metadata": {},
     "output_type": "execute_result"
    },
    {
     "data": {
      "image/png": "[encoded data removed]",
      "text/plain": [
       "<Figure size 432x288 with 1 Axes>"
      ]
     },
     "metadata": {
      "needs_background": "light"
     },
     "output_type": "display_data"
    }
   ],
   "source": [
    "#plot no of people in each pclass on bar chart\n",
    "r=df.pclass.value_counts()\n",
    "print(r)\n",
    "r.plot(kind='bar')"
   ]
  },
  {
   "cell_type": "code",
   "execution_count": 21,
   "metadata": {},
   "outputs": [
    {
     "name": "stdout",
     "output_type": "stream",
     "text": [
      "3    709\n",
      "1    321\n",
      "2    277\n",
      "Name: pclass, dtype: int64\n"
     ]
    },
    {
     "data": {
      "text/plain": [
       "<matplotlib.axes._subplots.AxesSubplot at 0x1cd38cfe898>"
      ]
     },
     "execution_count": 21,
     "metadata": {},
     "output_type": "execute_result"
    },
    {
     "data": {
      "image/png": "[encoded data removed]",
      "text/plain": [
       "<Figure size 432x288 with 1 Axes>"
      ]
     },
     "metadata": {
      "needs_background": "light"
     },
     "output_type": "display_data"
    }
   ],
   "source": [
    "#plot no of people in each pclass on bar chart\n",
    "r=df.pclass.value_counts()\n",
    "print(r)\n",
    "r.plot(kind='bar')"
   ]
  },
  {
   "cell_type": "code",
   "execution_count": 22,
   "metadata": {},
   "outputs": [
    {
     "name": "stdout",
     "output_type": "stream",
     "text": [
      "male      843\n",
      "female    464\n",
      "Name: gender, dtype: int64\n"
     ]
    },
    {
     "data": {
      "text/plain": [
       "<matplotlib.axes._subplots.AxesSubplot at 0x1cd38d578d0>"
      ]
     },
     "execution_count": 22,
     "metadata": {},
     "output_type": "execute_result"
    },
    {
     "data": {
      "image/png": "[encoded data removed]",
      "text/plain": [
       "<Figure size 432x288 with 1 Axes>"
      ]
     },
     "metadata": {
      "needs_background": "light"
     },
     "output_type": "display_data"
    }
   ],
   "source": [
    "# plot a bar-chart depicting the ratio of males to females\n",
    "r=df.gender.value_counts()\n",
    "print(r)\n",
    "r.plot(kind='barh')"
   ]
  },
  {
   "cell_type": "code",
   "execution_count": 23,
   "metadata": {},
   "outputs": [
    {
     "data": {
      "text/plain": [
       "<matplotlib.axes._subplots.AxesSubplot at 0x1cd38dbdba8>"
      ]
     },
     "execution_count": 23,
     "metadata": {},
     "output_type": "execute_result"
    },
    {
     "data": {
      "image/png": "[encoded data removed]",
      "text/plain": [
       "<Figure size 432x288 with 1 Axes>"
      ]
     },
     "metadata": {
      "needs_background": "light"
     },
     "output_type": "display_data"
    }
   ],
   "source": [
    "# plot a bar-chart depicting the ratio of male-survived, female-survived, male-dead, female-dead.\n",
    "df1=df.groupby(['gender']).survived.value_counts()\n",
    "df1.plot(kind='bar')"
   ]
  },
  {
   "cell_type": "code",
   "execution_count": 24,
   "metadata": {},
   "outputs": [
    {
     "data": {
      "image/png": "[encoded data removed]",
      "text/plain": [
       "<Figure size 432x288 with 1 Axes>"
      ]
     },
     "metadata": {
      "needs_background": "light"
     },
     "output_type": "display_data"
    }
   ],
   "source": [
    "# plot a stacked bar chart of number of male-survived,dead and female-survived, dead.\n",
    "g=df.groupby(by=['gender'])\n",
    "r=g.survived.value_counts()\n",
    "r.unstack().plot(kind = 'bar',stacked='True')\n",
    "plt.show()"
   ]
  },
  {
   "cell_type": "code",
   "execution_count": 25,
   "metadata": {},
   "outputs": [
    {
     "data": {
      "image/png": "[encoded data removed]",
      "text/plain": [
       "<Figure size 432x288 with 1 Axes>"
      ]
     },
     "metadata": {
      "needs_background": "light"
     },
     "output_type": "display_data"
    }
   ],
   "source": [
    "# plot stacked bar of survived with different pclass in same bar\n",
    "g=df.groupby(by=['pclass'])\n",
    "r=g.survived.value_counts()\n",
    "r.unstack().plot(kind = 'bar',stacked='True')\n",
    "plt.show()"
   ]
  },
  {
   "cell_type": "code",
   "execution_count": 26,
   "metadata": {},
   "outputs": [
    {
     "name": "stdout",
     "output_type": "stream",
     "text": [
      "MultiIndex(levels=[['C', 'Q', 'S'], ['female', 'male']],\n",
      "           codes=[[0, 0, 1, 1, 2, 2], [0, 1, 0, 1, 0, 1]],\n",
      "           names=['embarked', 'gender'])\n",
      "****************************************************************************************************\n",
      "embarked  gender\n",
      "C         female    31.046168\n",
      "          male      32.352264\n",
      "Q         female    28.112014\n",
      "          male      30.573047\n",
      "S         female    28.063141\n",
      "          male      29.932080\n",
      "Name: age, dtype: float64\n",
      "****************************************************************************************************\n",
      "gender       female       male\n",
      "embarked                      \n",
      "C         31.046168  32.352264\n",
      "Q         28.112014  30.573047\n",
      "S         28.063141  29.932080\n",
      "****************************************************************************************************\n"
     ]
    },
    {
     "data": {
      "image/png": "[encoded data removed]",
      "text/plain": [
       "<Figure size 432x288 with 1 Axes>"
      ]
     },
     "metadata": {
      "needs_background": "light"
     },
     "output_type": "display_data"
    }
   ],
   "source": [
    "#Stacked bar chart by Embarked and Gender\n",
    "g=df.groupby(by=['embarked','gender'])\n",
    "#print(g.groups)\n",
    "\n",
    "r=g.age.mean()\n",
    "print(r.index)\n",
    "print('*'*100)\n",
    "print(r)\n",
    "print('*'*100)\n",
    "print(r.unstack())\n",
    "print('*'*100)\n",
    "import matplotlib.pyplot as plt\n",
    "r.unstack().plot(kind = 'bar',stacked='True')\n",
    "plt.show()"
   ]
  },
  {
   "cell_type": "code",
   "execution_count": 27,
   "metadata": {},
   "outputs": [],
   "source": [
    "#Save the final dataset as titanic_filtered\n",
    "df.to_csv('titanic_filtered.csv')"
   ]
  }
 ],
 "metadata": {
  "kernelspec": {
   "display_name": "Python 3",
   "language": "python",
   "name": "python3"
  },
  "language_info": {
   "codemirror_mode": {
    "name": "ipython",
    "version": 3
   },
   "file_extension": ".py",
   "mimetype": "text/x-python",
   "name": "python",
   "nbconvert_exporter": "python",
   "pygments_lexer": "ipython3",
   "version": "3.7.3"
  }
 },
 "nbformat": 4,
 "nbformat_minor": 2
}
